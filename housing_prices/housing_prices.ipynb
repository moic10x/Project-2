{
 "cells": [
  {
   "cell_type": "code",
   "execution_count": 2,
   "id": "0e92998a-7232-4198-bc64-6ddefdcf8a47",
   "metadata": {},
   "outputs": [],
   "source": [
    "import pandas as pd\n",
    "from pathlib import Path\n",
    "import numpy as np"
   ]
  },
  {
   "cell_type": "code",
   "execution_count": 3,
   "id": "7473f5ab-8290-47dc-8760-ca8e6d612e20",
   "metadata": {},
   "outputs": [
    {
     "data": {
      "text/html": [
       "<div>\n",
       "<style scoped>\n",
       "    .dataframe tbody tr th:only-of-type {\n",
       "        vertical-align: middle;\n",
       "    }\n",
       "\n",
       "    .dataframe tbody tr th {\n",
       "        vertical-align: top;\n",
       "    }\n",
       "\n",
       "    .dataframe thead th {\n",
       "        text-align: right;\n",
       "    }\n",
       "</style>\n",
       "<table border=\"1\" class=\"dataframe\">\n",
       "  <thead>\n",
       "    <tr style=\"text-align: right;\">\n",
       "      <th></th>\n",
       "      <th>Date</th>\n",
       "      <th>New York, NY</th>\n",
       "      <th>Los Angeles, CA</th>\n",
       "      <th>Chicago, IL</th>\n",
       "      <th>Houston, TX</th>\n",
       "      <th>Miami, FL</th>\n",
       "      <th>Boston, MA</th>\n",
       "      <th>Phoenix, AZ</th>\n",
       "      <th>Seattle, WA</th>\n",
       "    </tr>\n",
       "  </thead>\n",
       "  <tbody>\n",
       "    <tr>\n",
       "      <th>0</th>\n",
       "      <td>04/30/08</td>\n",
       "      <td>401195.0</td>\n",
       "      <td>499583</td>\n",
       "      <td>239167</td>\n",
       "      <td>143000</td>\n",
       "      <td>244333</td>\n",
       "      <td>322067</td>\n",
       "      <td>226300</td>\n",
       "      <td>333833</td>\n",
       "    </tr>\n",
       "    <tr>\n",
       "      <th>1</th>\n",
       "      <td>05/31/08</td>\n",
       "      <td>399667.0</td>\n",
       "      <td>495250</td>\n",
       "      <td>239500</td>\n",
       "      <td>145167</td>\n",
       "      <td>244000</td>\n",
       "      <td>333067</td>\n",
       "      <td>226000</td>\n",
       "      <td>334483</td>\n",
       "    </tr>\n",
       "    <tr>\n",
       "      <th>2</th>\n",
       "      <td>06/30/08</td>\n",
       "      <td>401667.0</td>\n",
       "      <td>490833</td>\n",
       "      <td>243667</td>\n",
       "      <td>148500</td>\n",
       "      <td>245667</td>\n",
       "      <td>344167</td>\n",
       "      <td>226000</td>\n",
       "      <td>336150</td>\n",
       "    </tr>\n",
       "    <tr>\n",
       "      <th>3</th>\n",
       "      <td>07/31/08</td>\n",
       "      <td>407333.0</td>\n",
       "      <td>480833</td>\n",
       "      <td>248333</td>\n",
       "      <td>152167</td>\n",
       "      <td>247333</td>\n",
       "      <td>351000</td>\n",
       "      <td>221967</td>\n",
       "      <td>334817</td>\n",
       "    </tr>\n",
       "    <tr>\n",
       "      <th>4</th>\n",
       "      <td>08/31/08</td>\n",
       "      <td>414000.0</td>\n",
       "      <td>467500</td>\n",
       "      <td>251667</td>\n",
       "      <td>153500</td>\n",
       "      <td>250000</td>\n",
       "      <td>353333</td>\n",
       "      <td>216633</td>\n",
       "      <td>332483</td>\n",
       "    </tr>\n",
       "  </tbody>\n",
       "</table>\n",
       "</div>"
      ],
      "text/plain": [
       "       Date  New York, NY  Los Angeles, CA  Chicago, IL  Houston, TX  \\\n",
       "0  04/30/08      401195.0           499583       239167       143000   \n",
       "1  05/31/08      399667.0           495250       239500       145167   \n",
       "2  06/30/08      401667.0           490833       243667       148500   \n",
       "3  07/31/08      407333.0           480833       248333       152167   \n",
       "4  08/31/08      414000.0           467500       251667       153500   \n",
       "\n",
       "   Miami, FL  Boston, MA  Phoenix, AZ  Seattle, WA  \n",
       "0     244333      322067       226300       333833  \n",
       "1     244000      333067       226000       334483  \n",
       "2     245667      344167       226000       336150  \n",
       "3     247333      351000       221967       334817  \n",
       "4     250000      353333       216633       332483  "
      ]
     },
     "execution_count": 3,
     "metadata": {},
     "output_type": "execute_result"
    }
   ],
   "source": [
    "# Read in the \"Metro_median_sale_price.csv\" file\n",
    "df_sale_price = pd.read_csv(Path(\"../raw_data/Metro_median_sale_price.csv\"))\n",
    "\n",
    "# Display first five rows of data\n",
    "df_sale_price.head()"
   ]
  },
  {
   "cell_type": "code",
   "execution_count": 4,
   "id": "3cba49c9-481c-411c-96f6-889033ba9480",
   "metadata": {},
   "outputs": [
    {
     "data": {
      "text/plain": [
       "Date               0\n",
       "New York, NY       3\n",
       "Los Angeles, CA    0\n",
       "Chicago, IL        0\n",
       "Houston, TX        0\n",
       "Miami, FL          0\n",
       "Boston, MA         0\n",
       "Phoenix, AZ        0\n",
       "Seattle, WA        0\n",
       "dtype: int64"
      ]
     },
     "execution_count": 4,
     "metadata": {},
     "output_type": "execute_result"
    }
   ],
   "source": [
    "# Check for null values\n",
    "df_sale_price.isnull().sum()"
   ]
  },
  {
   "cell_type": "code",
   "execution_count": 5,
   "id": "eeedaa02-58be-4b70-83b8-6b6d209bf196",
   "metadata": {},
   "outputs": [],
   "source": [
    "# Replace blanks with NaN values\n",
    "df_sale_price = df_sale_price.replace('',np.nan)\n",
    "# Perform linear interpolation to fill missing values\n",
    "df_sale_price = df_sale_price.interpolate(method='linear')"
   ]
  },
  {
   "cell_type": "code",
   "execution_count": 6,
   "id": "a4fa140a-1d3f-4bc1-8df8-2ce686588824",
   "metadata": {},
   "outputs": [
    {
     "data": {
      "text/plain": [
       "Date               0\n",
       "New York, NY       0\n",
       "Los Angeles, CA    0\n",
       "Chicago, IL        0\n",
       "Houston, TX        0\n",
       "Miami, FL          0\n",
       "Boston, MA         0\n",
       "Phoenix, AZ        0\n",
       "Seattle, WA        0\n",
       "dtype: int64"
      ]
     },
     "execution_count": 6,
     "metadata": {},
     "output_type": "execute_result"
    }
   ],
   "source": [
    "# Check for null values\n",
    "df_sale_price.isnull().sum()"
   ]
  },
  {
   "cell_type": "code",
   "execution_count": 7,
   "id": "15d00055-029f-47f3-a395-30d635aab382",
   "metadata": {},
   "outputs": [
    {
     "data": {
      "text/html": [
       "<div>\n",
       "<style scoped>\n",
       "    .dataframe tbody tr th:only-of-type {\n",
       "        vertical-align: middle;\n",
       "    }\n",
       "\n",
       "    .dataframe tbody tr th {\n",
       "        vertical-align: top;\n",
       "    }\n",
       "\n",
       "    .dataframe thead th {\n",
       "        text-align: right;\n",
       "    }\n",
       "</style>\n",
       "<table border=\"1\" class=\"dataframe\">\n",
       "  <thead>\n",
       "    <tr style=\"text-align: right;\">\n",
       "      <th></th>\n",
       "      <th>New York, NY</th>\n",
       "      <th>Los Angeles, CA</th>\n",
       "      <th>Chicago, IL</th>\n",
       "      <th>Houston, TX</th>\n",
       "      <th>Miami, FL</th>\n",
       "      <th>Boston, MA</th>\n",
       "      <th>Phoenix, AZ</th>\n",
       "      <th>Seattle, WA</th>\n",
       "    </tr>\n",
       "    <tr>\n",
       "      <th>Date</th>\n",
       "      <th></th>\n",
       "      <th></th>\n",
       "      <th></th>\n",
       "      <th></th>\n",
       "      <th></th>\n",
       "      <th></th>\n",
       "      <th></th>\n",
       "      <th></th>\n",
       "    </tr>\n",
       "  </thead>\n",
       "  <tbody>\n",
       "    <tr>\n",
       "      <th>2008-04</th>\n",
       "      <td>401195.0</td>\n",
       "      <td>499583</td>\n",
       "      <td>239167</td>\n",
       "      <td>143000</td>\n",
       "      <td>244333</td>\n",
       "      <td>322067</td>\n",
       "      <td>226300</td>\n",
       "      <td>333833</td>\n",
       "    </tr>\n",
       "    <tr>\n",
       "      <th>2008-05</th>\n",
       "      <td>399667.0</td>\n",
       "      <td>495250</td>\n",
       "      <td>239500</td>\n",
       "      <td>145167</td>\n",
       "      <td>244000</td>\n",
       "      <td>333067</td>\n",
       "      <td>226000</td>\n",
       "      <td>334483</td>\n",
       "    </tr>\n",
       "    <tr>\n",
       "      <th>2008-06</th>\n",
       "      <td>401667.0</td>\n",
       "      <td>490833</td>\n",
       "      <td>243667</td>\n",
       "      <td>148500</td>\n",
       "      <td>245667</td>\n",
       "      <td>344167</td>\n",
       "      <td>226000</td>\n",
       "      <td>336150</td>\n",
       "    </tr>\n",
       "    <tr>\n",
       "      <th>2008-07</th>\n",
       "      <td>407333.0</td>\n",
       "      <td>480833</td>\n",
       "      <td>248333</td>\n",
       "      <td>152167</td>\n",
       "      <td>247333</td>\n",
       "      <td>351000</td>\n",
       "      <td>221967</td>\n",
       "      <td>334817</td>\n",
       "    </tr>\n",
       "    <tr>\n",
       "      <th>2008-08</th>\n",
       "      <td>414000.0</td>\n",
       "      <td>467500</td>\n",
       "      <td>251667</td>\n",
       "      <td>153500</td>\n",
       "      <td>250000</td>\n",
       "      <td>353333</td>\n",
       "      <td>216633</td>\n",
       "      <td>332483</td>\n",
       "    </tr>\n",
       "  </tbody>\n",
       "</table>\n",
       "</div>"
      ],
      "text/plain": [
       "         New York, NY  Los Angeles, CA  Chicago, IL  Houston, TX  Miami, FL  \\\n",
       "Date                                                                          \n",
       "2008-04      401195.0           499583       239167       143000     244333   \n",
       "2008-05      399667.0           495250       239500       145167     244000   \n",
       "2008-06      401667.0           490833       243667       148500     245667   \n",
       "2008-07      407333.0           480833       248333       152167     247333   \n",
       "2008-08      414000.0           467500       251667       153500     250000   \n",
       "\n",
       "         Boston, MA  Phoenix, AZ  Seattle, WA  \n",
       "Date                                           \n",
       "2008-04      322067       226300       333833  \n",
       "2008-05      333067       226000       334483  \n",
       "2008-06      344167       226000       336150  \n",
       "2008-07      351000       221967       334817  \n",
       "2008-08      353333       216633       332483  "
      ]
     },
     "execution_count": 7,
     "metadata": {},
     "output_type": "execute_result"
    }
   ],
   "source": [
    "# Convert the \"Date\" column so that it only displays the month and not the date\n",
    "df_sale_price[\"Date\"] = pd.to_datetime(df_sale_price[\"Date\"]).dt.to_period('M')\n",
    "\n",
    "# Set the index to \"Date\"\n",
    "df_sale_price = df_sale_price.set_index(\"Date\")\n",
    "\n",
    "# Display the first five rows of data\n",
    "df_sale_price.head()"
   ]
  },
  {
   "cell_type": "code",
   "execution_count": 8,
   "id": "a8a06956-b683-4446-9974-536e7a4cbd06",
   "metadata": {},
   "outputs": [
    {
     "data": {
      "text/plain": [
       "New York, NY       float64\n",
       "Los Angeles, CA      int64\n",
       "Chicago, IL          int64\n",
       "Houston, TX          int64\n",
       "Miami, FL            int64\n",
       "Boston, MA           int64\n",
       "Phoenix, AZ          int64\n",
       "Seattle, WA          int64\n",
       "dtype: object"
      ]
     },
     "execution_count": 8,
     "metadata": {},
     "output_type": "execute_result"
    }
   ],
   "source": [
    "# Check data types\n",
    "df_sale_price.dtypes"
   ]
  },
  {
   "cell_type": "code",
   "execution_count": 9,
   "id": "7eccc52e-45e6-4020-b71a-693eeaf6f809",
   "metadata": {},
   "outputs": [],
   "source": [
    "# Convert dta types from float to interger\n",
    "df_sale_price = df_sale_price.astype(\"float64\")"
   ]
  },
  {
   "cell_type": "code",
   "execution_count": 10,
   "id": "c37a1520-9ee4-45fc-85e4-114a02e0000f",
   "metadata": {},
   "outputs": [
    {
     "data": {
      "text/plain": [
       "New York, NY       float64\n",
       "Los Angeles, CA    float64\n",
       "Chicago, IL        float64\n",
       "Houston, TX        float64\n",
       "Miami, FL          float64\n",
       "Boston, MA         float64\n",
       "Phoenix, AZ        float64\n",
       "Seattle, WA        float64\n",
       "dtype: object"
      ]
     },
     "execution_count": 10,
     "metadata": {},
     "output_type": "execute_result"
    }
   ],
   "source": [
    "# Check data types\n",
    "df_sale_price.dtypes"
   ]
  },
  {
   "cell_type": "code",
   "execution_count": 11,
   "id": "e4446030-984a-4eb1-856b-6403fe118a76",
   "metadata": {},
   "outputs": [],
   "source": [
    "# Rename columns\n",
    "df_sale_price.columns = [\"New York\", \"Los Angeles\", \"Chicago\", \"Houston\", \"Miami\", \"Boston\", \"Phoenix\", \"Seattle\"]"
   ]
  },
  {
   "cell_type": "code",
   "execution_count": 12,
   "id": "8c9bd22a-fb26-4380-9bf1-fb853ca8d383",
   "metadata": {},
   "outputs": [],
   "source": [
    "# Create separate dataframes for the different regions\n",
    "\n",
    "df_price_nyc = df_sale_price.iloc[:,0]\n",
    "df_price_lax = df_sale_price.iloc[:,1]\n",
    "df_price_chi = df_sale_price.iloc[:,2]\n",
    "df_price_hou = df_sale_price.iloc[:,3]\n",
    "df_price_mia = df_sale_price.iloc[:,4]\n",
    "df_price_bos = df_sale_price.iloc[:,5]\n",
    "df_price_pho = df_sale_price.iloc[:,6]\n",
    "df_price_sea = df_sale_price.iloc[:,7]"
   ]
  },
  {
   "cell_type": "code",
   "execution_count": 14,
   "id": "eae5ba6f-b938-4759-982d-7220520a2c91",
   "metadata": {},
   "outputs": [],
   "source": [
    "# Import individual dataframes to folder with cleaned up data\n",
    "\n",
    "df_price_nyc.to_csv(Path(\"../clean_data/housing_prices/nyc_housing_prices.csv\"))\n",
    "df_price_lax.to_csv(Path(\"../clean_data/housing_prices/lax_housing_prices.csv\"))\n",
    "df_price_chi.to_csv(Path(\"../clean_data/housing_prices/chi_housing_prices.csv\"))\n",
    "df_price_hou.to_csv(Path(\"../clean_data/housing_prices/hou_housing_prices.csv\"))\n",
    "df_price_mia.to_csv(Path(\"../clean_data/housing_prices/mia_housing_prices.csv\"))\n",
    "df_price_bos.to_csv(Path(\"../clean_data/housing_prices/bos_housing_prices.csv\"))\n",
    "df_price_pho.to_csv(Path(\"../clean_data/housing_prices/pho_housing_prices.csv\"))\n",
    "df_price_sea.to_csv(Path(\"../clean_data/housing_prices/sea_housing_prices.csv\"))"
   ]
  },
  {
   "cell_type": "code",
   "execution_count": null,
   "id": "8f987653-f897-4d32-bd86-bdf26814a681",
   "metadata": {},
   "outputs": [],
   "source": []
  }
 ],
 "metadata": {
  "kernelspec": {
   "display_name": "Python 3 (ipykernel)",
   "language": "python",
   "name": "python3"
  },
  "language_info": {
   "codemirror_mode": {
    "name": "ipython",
    "version": 3
   },
   "file_extension": ".py",
   "mimetype": "text/x-python",
   "name": "python",
   "nbconvert_exporter": "python",
   "pygments_lexer": "ipython3",
   "version": "3.7.13"
  }
 },
 "nbformat": 4,
 "nbformat_minor": 5
}
